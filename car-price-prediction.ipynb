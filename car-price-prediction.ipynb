{
 "cells": [
  {
   "cell_type": "code",
   "execution_count": 1,
   "id": "3dae86fe",
   "metadata": {},
   "outputs": [],
   "source": [
    "import pandas as pd\n",
    "import numpy as np\n",
    "import seaborn as sns\n",
    "import matplotlib.pyplot as plt"
   ]
  },
  {
   "cell_type": "code",
   "execution_count": 2,
   "id": "cc205b47",
   "metadata": {},
   "outputs": [
    {
     "data": {
      "text/html": [
       "<div>\n",
       "<style scoped>\n",
       "    .dataframe tbody tr th:only-of-type {\n",
       "        vertical-align: middle;\n",
       "    }\n",
       "\n",
       "    .dataframe tbody tr th {\n",
       "        vertical-align: top;\n",
       "    }\n",
       "\n",
       "    .dataframe thead th {\n",
       "        text-align: right;\n",
       "    }\n",
       "</style>\n",
       "<table border=\"1\" class=\"dataframe\">\n",
       "  <thead>\n",
       "    <tr style=\"text-align: right;\">\n",
       "      <th></th>\n",
       "      <th>name</th>\n",
       "      <th>company</th>\n",
       "      <th>year</th>\n",
       "      <th>Price</th>\n",
       "      <th>kms_driven</th>\n",
       "      <th>fuel_type</th>\n",
       "    </tr>\n",
       "  </thead>\n",
       "  <tbody>\n",
       "    <tr>\n",
       "      <th>0</th>\n",
       "      <td>Hyundai Santro Xing XO eRLX Euro III</td>\n",
       "      <td>Hyundai</td>\n",
       "      <td>2007</td>\n",
       "      <td>80,000</td>\n",
       "      <td>45,000 kms</td>\n",
       "      <td>Petrol</td>\n",
       "    </tr>\n",
       "    <tr>\n",
       "      <th>1</th>\n",
       "      <td>Mahindra Jeep CL550 MDI</td>\n",
       "      <td>Mahindra</td>\n",
       "      <td>2006</td>\n",
       "      <td>4,25,000</td>\n",
       "      <td>40 kms</td>\n",
       "      <td>Diesel</td>\n",
       "    </tr>\n",
       "    <tr>\n",
       "      <th>2</th>\n",
       "      <td>Maruti Suzuki Alto 800 Vxi</td>\n",
       "      <td>Maruti</td>\n",
       "      <td>2018</td>\n",
       "      <td>Ask For Price</td>\n",
       "      <td>22,000 kms</td>\n",
       "      <td>Petrol</td>\n",
       "    </tr>\n",
       "    <tr>\n",
       "      <th>3</th>\n",
       "      <td>Hyundai Grand i10 Magna 1.2 Kappa VTVT</td>\n",
       "      <td>Hyundai</td>\n",
       "      <td>2014</td>\n",
       "      <td>3,25,000</td>\n",
       "      <td>28,000 kms</td>\n",
       "      <td>Petrol</td>\n",
       "    </tr>\n",
       "    <tr>\n",
       "      <th>4</th>\n",
       "      <td>Ford EcoSport Titanium 1.5L TDCi</td>\n",
       "      <td>Ford</td>\n",
       "      <td>2014</td>\n",
       "      <td>5,75,000</td>\n",
       "      <td>36,000 kms</td>\n",
       "      <td>Diesel</td>\n",
       "    </tr>\n",
       "  </tbody>\n",
       "</table>\n",
       "</div>"
      ],
      "text/plain": [
       "                                     name   company  year          Price  \\\n",
       "0    Hyundai Santro Xing XO eRLX Euro III   Hyundai  2007         80,000   \n",
       "1                 Mahindra Jeep CL550 MDI  Mahindra  2006       4,25,000   \n",
       "2              Maruti Suzuki Alto 800 Vxi    Maruti  2018  Ask For Price   \n",
       "3  Hyundai Grand i10 Magna 1.2 Kappa VTVT   Hyundai  2014       3,25,000   \n",
       "4        Ford EcoSport Titanium 1.5L TDCi      Ford  2014       5,75,000   \n",
       "\n",
       "   kms_driven fuel_type  \n",
       "0  45,000 kms    Petrol  \n",
       "1      40 kms    Diesel  \n",
       "2  22,000 kms    Petrol  \n",
       "3  28,000 kms    Petrol  \n",
       "4  36,000 kms    Diesel  "
      ]
     },
     "execution_count": 2,
     "metadata": {},
     "output_type": "execute_result"
    }
   ],
   "source": [
    "data = pd.read_csv('cars.csv',encoding='latin1')\n",
    "data.head()"
   ]
  },
  {
   "cell_type": "code",
   "execution_count": 3,
   "id": "487f54f8",
   "metadata": {},
   "outputs": [
    {
     "name": "stdout",
     "output_type": "stream",
     "text": [
      "<class 'pandas.core.frame.DataFrame'>\n",
      "RangeIndex: 892 entries, 0 to 891\n",
      "Data columns (total 6 columns):\n",
      " #   Column      Non-Null Count  Dtype \n",
      "---  ------      --------------  ----- \n",
      " 0   name        892 non-null    object\n",
      " 1   company     892 non-null    object\n",
      " 2   year        892 non-null    object\n",
      " 3   Price       892 non-null    object\n",
      " 4   kms_driven  840 non-null    object\n",
      " 5   fuel_type   837 non-null    object\n",
      "dtypes: object(6)\n",
      "memory usage: 41.9+ KB\n"
     ]
    }
   ],
   "source": [
    "data.info()"
   ]
  },
  {
   "cell_type": "code",
   "execution_count": 4,
   "id": "698b7c02",
   "metadata": {},
   "outputs": [],
   "source": [
    "# convert to data in lower case\n",
    "data = data.apply(lambda x:x.astype(str).str.lower())"
   ]
  },
  {
   "cell_type": "markdown",
   "id": "fdb5e0fd",
   "metadata": {},
   "source": [
    "### Year"
   ]
  },
  {
   "cell_type": "code",
   "execution_count": 5,
   "id": "10b643cc",
   "metadata": {},
   "outputs": [],
   "source": [
    "# Replacing all the non year values to null values\n",
    "data.year[data.year.str.isnumeric() == False] = np.nan"
   ]
  },
  {
   "cell_type": "code",
   "execution_count": 6,
   "id": "03916e15",
   "metadata": {},
   "outputs": [],
   "source": [
    "#Replace NA values with mode value of year column \n",
    "data.year.fillna(data.year.mode()[0],inplace=True)\n",
    "data.year = data.year.astype(int)"
   ]
  },
  {
   "cell_type": "markdown",
   "id": "1323fbce",
   "metadata": {},
   "source": [
    "### Price"
   ]
  },
  {
   "cell_type": "code",
   "execution_count": 7,
   "id": "81e25553",
   "metadata": {},
   "outputs": [
    {
     "name": "stderr",
     "output_type": "stream",
     "text": [
      "C:\\Users\\USER\\AppData\\Local\\Temp\\ipykernel_12896\\4279315821.py:4: SettingWithCopyWarning: \n",
      "A value is trying to be set on a copy of a slice from a DataFrame\n",
      "\n",
      "See the caveats in the documentation: https://pandas.pydata.org/pandas-docs/stable/user_guide/indexing.html#returning-a-view-versus-a-copy\n",
      "  data.Price[data.Price.str.isnumeric() == False] = np.nan\n"
     ]
    }
   ],
   "source": [
    "# Removing commas\n",
    "data.Price = data.Price.str.replace(',','')\n",
    "# Replacing non numeric values with Null value\n",
    "data.Price[data.Price.str.isnumeric() == False] = np.nan\n",
    "#convert string to int\n",
    "data.Price = data.Price[data.Price.str.isnumeric() == True].astype(int)"
   ]
  },
  {
   "cell_type": "code",
   "execution_count": 8,
   "id": "9f33c6d2",
   "metadata": {},
   "outputs": [],
   "source": [
    "# Filling NA values with mean of Price column\n",
    "data.Price.fillna(data.Price.mean(),inplace=True)"
   ]
  },
  {
   "cell_type": "markdown",
   "id": "64912e7f",
   "metadata": {},
   "source": [
    "### Kms driven"
   ]
  },
  {
   "cell_type": "code",
   "execution_count": 9,
   "id": "dbdd51ad",
   "metadata": {},
   "outputs": [
    {
     "name": "stderr",
     "output_type": "stream",
     "text": [
      "C:\\Users\\USER\\AppData\\Local\\Temp\\ipykernel_12896\\2998474530.py:4: SettingWithCopyWarning: \n",
      "A value is trying to be set on a copy of a slice from a DataFrame\n",
      "\n",
      "See the caveats in the documentation: https://pandas.pydata.org/pandas-docs/stable/user_guide/indexing.html#returning-a-view-versus-a-copy\n",
      "  data.kms_driven[data.kms_driven.str.isnumeric() == False] = np.nan\n"
     ]
    }
   ],
   "source": [
    "#convert into numeric values\n",
    "data.kms_driven = data.kms_driven.str.split(' ').str.get(0).str.replace(',','')\n",
    "# Replace non - numeric with null value\n",
    "data.kms_driven[data.kms_driven.str.isnumeric() == False] = np.nan\n",
    "# Convert to int\n",
    "data.kms_driven = data.kms_driven[data.kms_driven.str.isnumeric() == True].astype(int)"
   ]
  },
  {
   "cell_type": "code",
   "execution_count": 10,
   "id": "ad834728",
   "metadata": {},
   "outputs": [],
   "source": [
    "# fill null values with mean\n",
    "data.kms_driven.fillna(data.kms_driven.mean(),inplace=True)"
   ]
  },
  {
   "cell_type": "markdown",
   "id": "05f59943",
   "metadata": {},
   "source": [
    "### Fuel type"
   ]
  },
  {
   "cell_type": "code",
   "execution_count": 11,
   "id": "0d3000f0",
   "metadata": {},
   "outputs": [
    {
     "data": {
      "text/plain": [
       "petrol    440\n",
       "diesel    395\n",
       "nan        55\n",
       "lpg         2\n",
       "Name: fuel_type, dtype: int64"
      ]
     },
     "execution_count": 11,
     "metadata": {},
     "output_type": "execute_result"
    }
   ],
   "source": [
    "data.fuel_type.value_counts()"
   ]
  },
  {
   "cell_type": "code",
   "execution_count": 12,
   "id": "2bbbd17c",
   "metadata": {},
   "outputs": [],
   "source": [
    "# Replace Null values with mode of fuel type\n",
    "data.fuel_type.replace('nan', data.fuel_type.mode()[0],inplace=True)"
   ]
  },
  {
   "cell_type": "code",
   "execution_count": 13,
   "id": "c4e1eb49",
   "metadata": {},
   "outputs": [
    {
     "data": {
      "text/plain": [
       "petrol    495\n",
       "diesel    395\n",
       "lpg         2\n",
       "Name: fuel_type, dtype: int64"
      ]
     },
     "execution_count": 13,
     "metadata": {},
     "output_type": "execute_result"
    }
   ],
   "source": [
    "data.fuel_type.value_counts()"
   ]
  },
  {
   "cell_type": "markdown",
   "id": "239a6bad",
   "metadata": {},
   "source": [
    "### Name "
   ]
  },
  {
   "cell_type": "code",
   "execution_count": 14,
   "id": "ba5257d1",
   "metadata": {},
   "outputs": [],
   "source": [
    "# taking first 3 words from name column\n",
    "data.name = data.name.str.split().str.slice(0,3).str.join(' ')"
   ]
  },
  {
   "cell_type": "code",
   "execution_count": 15,
   "id": "a02ca7d9",
   "metadata": {},
   "outputs": [
    {
     "data": {
      "text/html": [
       "<div>\n",
       "<style scoped>\n",
       "    .dataframe tbody tr th:only-of-type {\n",
       "        vertical-align: middle;\n",
       "    }\n",
       "\n",
       "    .dataframe tbody tr th {\n",
       "        vertical-align: top;\n",
       "    }\n",
       "\n",
       "    .dataframe thead th {\n",
       "        text-align: right;\n",
       "    }\n",
       "</style>\n",
       "<table border=\"1\" class=\"dataframe\">\n",
       "  <thead>\n",
       "    <tr style=\"text-align: right;\">\n",
       "      <th></th>\n",
       "      <th>name</th>\n",
       "      <th>company</th>\n",
       "      <th>year</th>\n",
       "      <th>Price</th>\n",
       "      <th>kms_driven</th>\n",
       "      <th>fuel_type</th>\n",
       "    </tr>\n",
       "  </thead>\n",
       "  <tbody>\n",
       "    <tr>\n",
       "      <th>0</th>\n",
       "      <td>hyundai santro xing</td>\n",
       "      <td>hyundai</td>\n",
       "      <td>2007</td>\n",
       "      <td>80000.000000</td>\n",
       "      <td>45000.0</td>\n",
       "      <td>petrol</td>\n",
       "    </tr>\n",
       "    <tr>\n",
       "      <th>1</th>\n",
       "      <td>mahindra jeep cl550</td>\n",
       "      <td>mahindra</td>\n",
       "      <td>2006</td>\n",
       "      <td>425000.000000</td>\n",
       "      <td>40.0</td>\n",
       "      <td>diesel</td>\n",
       "    </tr>\n",
       "    <tr>\n",
       "      <th>2</th>\n",
       "      <td>maruti suzuki alto</td>\n",
       "      <td>maruti</td>\n",
       "      <td>2018</td>\n",
       "      <td>404688.534422</td>\n",
       "      <td>22000.0</td>\n",
       "      <td>petrol</td>\n",
       "    </tr>\n",
       "    <tr>\n",
       "      <th>3</th>\n",
       "      <td>hyundai grand i10</td>\n",
       "      <td>hyundai</td>\n",
       "      <td>2014</td>\n",
       "      <td>325000.000000</td>\n",
       "      <td>28000.0</td>\n",
       "      <td>petrol</td>\n",
       "    </tr>\n",
       "    <tr>\n",
       "      <th>4</th>\n",
       "      <td>ford ecosport titanium</td>\n",
       "      <td>ford</td>\n",
       "      <td>2014</td>\n",
       "      <td>575000.000000</td>\n",
       "      <td>36000.0</td>\n",
       "      <td>diesel</td>\n",
       "    </tr>\n",
       "  </tbody>\n",
       "</table>\n",
       "</div>"
      ],
      "text/plain": [
       "                     name   company  year          Price  kms_driven fuel_type\n",
       "0     hyundai santro xing   hyundai  2007   80000.000000     45000.0    petrol\n",
       "1     mahindra jeep cl550  mahindra  2006  425000.000000        40.0    diesel\n",
       "2      maruti suzuki alto    maruti  2018  404688.534422     22000.0    petrol\n",
       "3       hyundai grand i10   hyundai  2014  325000.000000     28000.0    petrol\n",
       "4  ford ecosport titanium      ford  2014  575000.000000     36000.0    diesel"
      ]
     },
     "execution_count": 15,
     "metadata": {},
     "output_type": "execute_result"
    }
   ],
   "source": [
    "data.head()"
   ]
  },
  {
   "cell_type": "code",
   "execution_count": 16,
   "id": "ca395677",
   "metadata": {},
   "outputs": [
    {
     "name": "stdout",
     "output_type": "stream",
     "text": [
      "<class 'pandas.core.frame.DataFrame'>\n",
      "RangeIndex: 892 entries, 0 to 891\n",
      "Data columns (total 6 columns):\n",
      " #   Column      Non-Null Count  Dtype  \n",
      "---  ------      --------------  -----  \n",
      " 0   name        892 non-null    object \n",
      " 1   company     892 non-null    object \n",
      " 2   year        892 non-null    int32  \n",
      " 3   Price       892 non-null    float64\n",
      " 4   kms_driven  892 non-null    float64\n",
      " 5   fuel_type   892 non-null    object \n",
      "dtypes: float64(2), int32(1), object(3)\n",
      "memory usage: 38.5+ KB\n"
     ]
    }
   ],
   "source": [
    "data.info()"
   ]
  },
  {
   "cell_type": "markdown",
   "id": "f04600b0",
   "metadata": {},
   "source": [
    "### Check for outlier"
   ]
  },
  {
   "cell_type": "markdown",
   "id": "bd01ffdb",
   "metadata": {},
   "source": [
    "#### Price"
   ]
  },
  {
   "cell_type": "code",
   "execution_count": 17,
   "id": "adf334a9",
   "metadata": {},
   "outputs": [
    {
     "data": {
      "image/png": "[encoded data removed]",
      "text/plain": [
       "<Figure size 1080x360 with 1 Axes>"
      ]
     },
     "metadata": {
      "needs_background": "light"
     },
     "output_type": "display_data"
    }
   ],
   "source": [
    "plt.figure(figsize=(15,5))\n",
    "sns.boxplot(x = data.Price,data = data)\n",
    "plt.show()"
   ]
  },
  {
   "cell_type": "code",
   "execution_count": 18,
   "id": "b5a55b3c",
   "metadata": {},
   "outputs": [
    {
     "name": "stderr",
     "output_type": "stream",
     "text": [
      "C:\\Users\\USER\\AppData\\Local\\Temp\\ipykernel_12896\\3929246766.py:2: SettingWithCopyWarning: \n",
      "A value is trying to be set on a copy of a slice from a DataFrame\n",
      "\n",
      "See the caveats in the documentation: https://pandas.pydata.org/pandas-docs/stable/user_guide/indexing.html#returning-a-view-versus-a-copy\n",
      "  data.Price[data.Price>35e5] = data.Price.mean()\n"
     ]
    }
   ],
   "source": [
    "# Replacing outliers with mean value\n",
    "data.Price[data.Price>35e5] = data.Price.mean()"
   ]
  },
  {
   "cell_type": "markdown",
   "id": "1ae8fb34",
   "metadata": {},
   "source": [
    "#### Kms_driven"
   ]
  },
  {
   "cell_type": "code",
   "execution_count": 19,
   "id": "8540937c",
   "metadata": {},
   "outputs": [
    {
     "data": {
      "image/png": "[encoded data removed]",
      "text/plain": [
       "<Figure size 1080x360 with 1 Axes>"
      ]
     },
     "metadata": {
      "needs_background": "light"
     },
     "output_type": "display_data"
    }
   ],
   "source": [
    "plt.figure(figsize=(15,5))\n",
    "sns.boxplot(x = data.kms_driven,data = data)\n",
    "plt.show()"
   ]
  },
  {
   "cell_type": "code",
   "execution_count": 20,
   "id": "321b3d2c",
   "metadata": {},
   "outputs": [
    {
     "name": "stderr",
     "output_type": "stream",
     "text": [
      "C:\\Users\\USER\\AppData\\Local\\Temp\\ipykernel_12896\\2781677741.py:2: SettingWithCopyWarning: \n",
      "A value is trying to be set on a copy of a slice from a DataFrame\n",
      "\n",
      "See the caveats in the documentation: https://pandas.pydata.org/pandas-docs/stable/user_guide/indexing.html#returning-a-view-versus-a-copy\n",
      "  data.kms_driven[data.kms_driven>1.8e5] = data.kms_driven.mean()\n"
     ]
    }
   ],
   "source": [
    "# Replacing outliers with mean value\n",
    "data.kms_driven[data.kms_driven>1.8e5] = data.kms_driven.mean()"
   ]
  },
  {
   "cell_type": "code",
   "execution_count": 21,
   "id": "62c6f049",
   "metadata": {},
   "outputs": [
    {
     "data": {
      "text/html": [
       "<div>\n",
       "<style scoped>\n",
       "    .dataframe tbody tr th:only-of-type {\n",
       "        vertical-align: middle;\n",
       "    }\n",
       "\n",
       "    .dataframe tbody tr th {\n",
       "        vertical-align: top;\n",
       "    }\n",
       "\n",
       "    .dataframe thead th {\n",
       "        text-align: right;\n",
       "    }\n",
       "</style>\n",
       "<table border=\"1\" class=\"dataframe\">\n",
       "  <thead>\n",
       "    <tr style=\"text-align: right;\">\n",
       "      <th></th>\n",
       "      <th>name</th>\n",
       "      <th>company</th>\n",
       "      <th>year</th>\n",
       "      <th>Price</th>\n",
       "      <th>kms_driven</th>\n",
       "      <th>fuel_type</th>\n",
       "    </tr>\n",
       "  </thead>\n",
       "  <tbody>\n",
       "    <tr>\n",
       "      <th>0</th>\n",
       "      <td>hyundai santro xing</td>\n",
       "      <td>hyundai</td>\n",
       "      <td>2007</td>\n",
       "      <td>80000.000000</td>\n",
       "      <td>45000.0</td>\n",
       "      <td>petrol</td>\n",
       "    </tr>\n",
       "    <tr>\n",
       "      <th>1</th>\n",
       "      <td>mahindra jeep cl550</td>\n",
       "      <td>mahindra</td>\n",
       "      <td>2006</td>\n",
       "      <td>425000.000000</td>\n",
       "      <td>40.0</td>\n",
       "      <td>diesel</td>\n",
       "    </tr>\n",
       "    <tr>\n",
       "      <th>2</th>\n",
       "      <td>maruti suzuki alto</td>\n",
       "      <td>maruti</td>\n",
       "      <td>2018</td>\n",
       "      <td>404688.534422</td>\n",
       "      <td>22000.0</td>\n",
       "      <td>petrol</td>\n",
       "    </tr>\n",
       "    <tr>\n",
       "      <th>3</th>\n",
       "      <td>hyundai grand i10</td>\n",
       "      <td>hyundai</td>\n",
       "      <td>2014</td>\n",
       "      <td>325000.000000</td>\n",
       "      <td>28000.0</td>\n",
       "      <td>petrol</td>\n",
       "    </tr>\n",
       "    <tr>\n",
       "      <th>4</th>\n",
       "      <td>ford ecosport titanium</td>\n",
       "      <td>ford</td>\n",
       "      <td>2014</td>\n",
       "      <td>575000.000000</td>\n",
       "      <td>36000.0</td>\n",
       "      <td>diesel</td>\n",
       "    </tr>\n",
       "  </tbody>\n",
       "</table>\n",
       "</div>"
      ],
      "text/plain": [
       "                     name   company  year          Price  kms_driven fuel_type\n",
       "0     hyundai santro xing   hyundai  2007   80000.000000     45000.0    petrol\n",
       "1     mahindra jeep cl550  mahindra  2006  425000.000000        40.0    diesel\n",
       "2      maruti suzuki alto    maruti  2018  404688.534422     22000.0    petrol\n",
       "3       hyundai grand i10   hyundai  2014  325000.000000     28000.0    petrol\n",
       "4  ford ecosport titanium      ford  2014  575000.000000     36000.0    diesel"
      ]
     },
     "execution_count": 21,
     "metadata": {},
     "output_type": "execute_result"
    }
   ],
   "source": [
    "data.head()"
   ]
  },
  {
   "cell_type": "code",
   "execution_count": 22,
   "id": "5a3f6e76",
   "metadata": {},
   "outputs": [],
   "source": [
    "data.to_csv('processed_data.csv')"
   ]
  },
  {
   "cell_type": "markdown",
   "id": "b7035696",
   "metadata": {},
   "source": [
    "# Model Building"
   ]
  },
  {
   "cell_type": "code",
   "execution_count": 23,
   "id": "8309f99f",
   "metadata": {},
   "outputs": [],
   "source": [
    "from sklearn.linear_model import LinearRegression\n",
    "from sklearn.model_selection import train_test_split\n",
    "from sklearn.preprocessing import OneHotEncoder\n",
    "from sklearn.metrics import r2_score"
   ]
  },
  {
   "cell_type": "code",
   "execution_count": 24,
   "id": "cd2fd597",
   "metadata": {},
   "outputs": [],
   "source": [
    "from sklearn.compose import make_column_transformer\n",
    "from sklearn.pipeline import make_pipeline"
   ]
  },
  {
   "cell_type": "code",
   "execution_count": 25,
   "id": "5e38bb06",
   "metadata": {},
   "outputs": [],
   "source": [
    "x = data.drop(['Price'],axis=1)\n",
    "y = data['Price']"
   ]
  },
  {
   "cell_type": "code",
   "execution_count": 26,
   "id": "941ac8b3",
   "metadata": {},
   "outputs": [],
   "source": [
    "x_train, x_test, y_train, y_test = train_test_split(x,y,test_size=0.2)"
   ]
  },
  {
   "cell_type": "code",
   "execution_count": 27,
   "id": "4f5b66ad",
   "metadata": {},
   "outputs": [
    {
     "data": {
      "text/plain": [
       "OneHotEncoder()"
      ]
     },
     "execution_count": 27,
     "metadata": {},
     "output_type": "execute_result"
    }
   ],
   "source": [
    "ohe = OneHotEncoder(categories='auto',)\n",
    "ohe.fit(x[['name','company','fuel_type']])"
   ]
  },
  {
   "cell_type": "code",
   "execution_count": 28,
   "id": "06ff1980",
   "metadata": {},
   "outputs": [],
   "source": [
    "lr = LinearRegression()"
   ]
  },
  {
   "cell_type": "code",
   "execution_count": 29,
   "id": "eac19649",
   "metadata": {},
   "outputs": [],
   "source": [
    "transformer = make_column_transformer((OneHotEncoder(categories=ohe.categories_),['name','company','fuel_type']),\n",
    "                                     remainder='passthrough')"
   ]
  },
  {
   "cell_type": "code",
   "execution_count": 30,
   "id": "06f2608b",
   "metadata": {},
   "outputs": [],
   "source": [
    "pipe = make_pipeline(transformer,lr)"
   ]
  },
  {
   "cell_type": "code",
   "execution_count": 31,
   "id": "ce1da81f",
   "metadata": {},
   "outputs": [
    {
     "data": {
      "text/plain": [
       "0.6468618446963647"
      ]
     },
     "execution_count": 31,
     "metadata": {},
     "output_type": "execute_result"
    }
   ],
   "source": [
    "pipe.fit(x_train,y_train)\n",
    "y_pred = pipe.predict(x_test)\n",
    "r2_score(y_test,y_pred)"
   ]
  },
  {
   "cell_type": "code",
   "execution_count": 32,
   "id": "9217d8e4",
   "metadata": {},
   "outputs": [],
   "source": [
    "#get best fitted random state for train test split as the data available is in less amount\n",
    "score = []\n",
    "for i in range(1000):\n",
    "    x_train, x_test, y_train, y_test = train_test_split(x,y,test_size=0.2,random_state=i)\n",
    "    pipe.fit(x_train,y_train)\n",
    "    y_pred = pipe.predict(x_test)\n",
    "    score.append(r2_score(y_test,y_pred))"
   ]
  },
  {
   "cell_type": "code",
   "execution_count": 33,
   "id": "bd6ebcf3",
   "metadata": {},
   "outputs": [
    {
     "data": {
      "text/plain": [
       "436"
      ]
     },
     "execution_count": 33,
     "metadata": {},
     "output_type": "execute_result"
    }
   ],
   "source": [
    "#Maximum r2-score is getting at random state 436\n",
    "score.index(max(score))"
   ]
  },
  {
   "cell_type": "code",
   "execution_count": 34,
   "id": "825ab020",
   "metadata": {},
   "outputs": [
    {
     "name": "stdout",
     "output_type": "stream",
     "text": [
      "r2 score at random state : 436 is  0.8821258929689088\n"
     ]
    }
   ],
   "source": [
    "x_train, x_test, y_train, y_test = train_test_split(x,y,test_size=0.2,random_state=score.index(max(score)))\n",
    "pipe.fit(x_train,y_train)\n",
    "y_pred = pipe.predict(x_test)\n",
    "print('r2 score at random state : 436 is ',r2_score(y_test,y_pred))"
   ]
  },
  {
   "cell_type": "code",
   "execution_count": 35,
   "id": "b9080e82",
   "metadata": {},
   "outputs": [],
   "source": [
    "import pickle as pkl\n",
    "pkl.dump(transformer,open('transformer.pkl','wb'))\n",
    "pkl.dump(pipe,open('pipe.pkl','wb'))\n",
    "pkl.dump(data,open('data.pkl','wb'))\n",
    "pkl.dump(ohe,open('ohe.pkl','wb'))"
   ]
  },
  {
   "cell_type": "code",
   "execution_count": 36,
   "id": "68c61700",
   "metadata": {},
   "outputs": [
    {
     "name": "stdout",
     "output_type": "stream",
     "text": [
      "Predicted Price: 379537.11473385245\n"
     ]
    }
   ],
   "source": [
    "# Exapmle\n",
    "name = 'hyundai santro xing'\n",
    "company = 'hyundai'\n",
    "kms =20000\n",
    "fuel = 'petrol'\n",
    "year = 2020\n",
    "predicted_price = pipe.predict(pd.DataFrame([[name,company,year,kms,fuel]],\n",
    "                                            columns=['name','company','year','kms_driven','fuel_type']))[0]\n",
    "print('Predicted Price:',predicted_price)"
   ]
  }
 ],
 "metadata": {
  "kernelspec": {
   "display_name": "Python 3 (ipykernel)",
   "language": "python",
   "name": "python3"
  },
  "language_info": {
   "codemirror_mode": {
    "name": "ipython",
    "version": 3
   },
   "file_extension": ".py",
   "mimetype": "text/x-python",
   "name": "python",
   "nbconvert_exporter": "python",
   "pygments_lexer": "ipython3",
   "version": "3.9.12"
  }
 },
 "nbformat": 4,
 "nbformat_minor": 5
}
